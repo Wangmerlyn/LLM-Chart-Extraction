{
 "cells": [
  {
   "cell_type": "code",
   "execution_count": 10,
   "metadata": {},
   "outputs": [],
   "source": [
    "import pandas\n",
    "import numpy as np"
   ]
  },
  {
   "cell_type": "code",
   "execution_count": 11,
   "metadata": {},
   "outputs": [],
   "source": [
    "points = np.loadtxt('test_figs/given/plot_0_1_points.csv', delimiter=',')"
   ]
  },
  {
   "cell_type": "code",
   "execution_count": 12,
   "metadata": {},
   "outputs": [
    {
     "name": "stdout",
     "output_type": "stream",
     "text": [
      "(15137, 2)\n",
      "(696, 2)\n"
     ]
    }
   ],
   "source": [
    "# reduce the y of points of the same x to their mean\n",
    "df = pandas.DataFrame(points, columns=['x', 'y'])\n",
    "print(df.shape)\n",
    "df = df.groupby('x').mean().reset_index()\n",
    "print(df.shape)"
   ]
  },
  {
   "cell_type": "code",
   "execution_count": 13,
   "metadata": {},
   "outputs": [
    {
     "name": "stdout",
     "output_type": "stream",
     "text": [
      "(696, 2)\n"
     ]
    }
   ],
   "source": [
    "points = df.values\n",
    "print(points.shape)"
   ]
  },
  {
   "cell_type": "code",
   "execution_count": 14,
   "metadata": {},
   "outputs": [],
   "source": [
    "max_y = np.max(points[:,1])\n",
    "min_y = np.min(points[:,1])\n",
    "# linear transform max y to 0 and min y to 180\n",
    "points[:,1] = 180 - (points[:,1] - min_y) / (max_y - min_y) * 180"
   ]
  },
  {
   "cell_type": "code",
   "execution_count": 16,
   "metadata": {},
   "outputs": [
    {
     "name": "stdout",
     "output_type": "stream",
     "text": [
      "[44.90777609 40.30409494 11.31280009  9.03407893 24.02623258 51.82140332\n",
      " 57.53366905 48.60122575 75.61830494 17.93886872]\n"
     ]
    }
   ],
   "source": [
    "# linspace 10 points from points[:,0], both endpoints included\n",
    "x = np.linspace(points[0,0], points[-1,0], 10, endpoint=True)\n",
    "# print their corresponding y\n",
    "y = np.interp(x, points[:,0], points[:,1])\n",
    "print(y)"
   ]
  },
  {
   "cell_type": "markdown",
   "metadata": {},
   "source": [
    "| 日期   | O₃ (µg/m³) |\n",
    "|--------|-------------|\n",
    "| 1/23   | 44.91       |\n",
    "| 1/27   | 40.30       |\n",
    "| 1/31   | 11.31       |\n",
    "| 2/4    | 9.03        |\n",
    "| 2/8    | 24.03       |\n",
    "| 2/12   | 51.82       |\n",
    "| 2/16   | 57.53       |\n",
    "| 2/20   | 48.60       |\n",
    "| 2/24   | 75.62       |\n",
    "| 2/28   | 17.94       |\n"
   ]
  }
 ],
 "metadata": {
  "kernelspec": {
   "display_name": "dp",
   "language": "python",
   "name": "python3"
  },
  "language_info": {
   "codemirror_mode": {
    "name": "ipython",
    "version": 3
   },
   "file_extension": ".py",
   "mimetype": "text/x-python",
   "name": "python",
   "nbconvert_exporter": "python",
   "pygments_lexer": "ipython3",
   "version": "3.11.4"
  }
 },
 "nbformat": 4,
 "nbformat_minor": 2
}
