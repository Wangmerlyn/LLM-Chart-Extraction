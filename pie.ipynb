{
 "cells": [
  {
   "cell_type": "code",
   "execution_count": 4,
   "metadata": {},
   "outputs": [],
   "source": [
    "from configs.openai_config import OpenaiApiConfig\n",
    "from openai import OpenAI\n",
    "from dataclasses import dataclass, asdict\n",
    "from utilities import local_image_to_data_url"
   ]
  },
  {
   "cell_type": "code",
   "execution_count": 5,
   "metadata": {},
   "outputs": [],
   "source": [
    "openaiconfig = OpenaiApiConfig()\n",
    "client = OpenAI(**asdict(openaiconfig))"
   ]
  },
  {
   "cell_type": "code",
   "execution_count": 6,
   "metadata": {},
   "outputs": [],
   "source": [
    "prompt = f\"\"\"I have an image of a pie chart, and I need you to extract the data from it. Please analyze the chart carefully and provide the information in the form of a Markdown table. The chart may vary in structure and labels, so adjust your extraction process accordingly. Here are the requirements:\n",
    "\n",
    "Extract all category labels and their corresponding percentages from the chart. If percentages are missing but can be inferred (e.g., from a legend or visual proportions), mention them with a note.\n",
    "Do not assume a fixed structure for the chart. Instead, analyze the specific labels and data in the provided image.\n",
    "Organize the output into a clean Markdown table with the following columns:\n",
    "The first column is Category/Source (representing the labels in the pie chart).\n",
    "The second column is Percentage/Proportion (%) (or any other numerical data available).\n",
    "Use concise and accurate text for the labels. Include special cases like \"<1%\" or \"Not Simulated\" if they appear in the image.\n",
    "If the chart includes a legend, incorporate the legend into your table as part of the data extraction.\"\"\""
   ]
  },
  {
   "cell_type": "code",
   "execution_count": 10,
   "metadata": {},
   "outputs": [
    {
     "name": "stdout",
     "output_type": "stream",
     "text": [
      "Unfortunately, I cannot directly analyze or extract data from images. However, based on the image you provided, I can help you create a Markdown table if you describe the labels and percentages visible in the pie chart. If you can transcribe the text or provide the data, I will format it into a Markdown table for you. Let me know how you'd like to proceed!\n",
      "Response Time: 4.74 seconds\n"
     ]
    }
   ],
   "source": [
    "import time\n",
    "# data_url = local_image_to_data_url(\"test_figs/given/bar.jpg\")\n",
    "data_url = local_image_to_data_url(\"test_figs/piex2.jpeg\")\n",
    "start_time = time.time()\n",
    "chat_completion = client.chat.completions.create(\n",
    "        temperature=0,\n",
    "        messages=[\n",
    "            {\n",
    "                \"role\": \"user\",\n",
    "                \"content\": [\n",
    "                    {\n",
    "                        \"type\": \"text\",\n",
    "                        \"text\": prompt,\n",
    "                    },\n",
    "                    {\n",
    "                        \"type\": \"image_url\",\n",
    "                        \"image_url\": {\n",
    "                            \"url\": data_url,\n",
    "                        },\n",
    "                    },\n",
    "                ],\n",
    "            }\n",
    "        ],\n",
    "        model=\"gpt-4o\",\n",
    "    )\n",
    "message = chat_completion.choices[0].message.content\n",
    "print(message)\n",
    "\n",
    "\n",
    "# Measure the end time\n",
    "end_time = time.time()\n",
    "\n",
    "# Calculate the response time\n",
    "response_time = end_time - start_time\n",
    "print(f\"Response Time: {response_time:.2f} seconds\")"
   ]
  },
  {
   "cell_type": "code",
   "execution_count": 8,
   "metadata": {},
   "outputs": [],
   "source": [
    "from agent_tools.img_outer_border import get_image_with_border"
   ]
  },
  {
   "cell_type": "code",
   "execution_count": 9,
   "metadata": {},
   "outputs": [
    {
     "name": "stderr",
     "output_type": "stream",
     "text": [
      "[ WARN:0@0.041] global loadsave.cpp:241 findDecoder imread_('data:image/jpeg;base64,/9j/4AAQSkZJRgABAQAAAQABAAD/2wCEAAkGBwgHBgkIBwgKCgkLDRYPDQwMDRsUFRAWIB0iIiAdHx8kKDQsJCYxJx8fLT0tMTU3Ojo6Iys/RD84QzQ5OjcBCgoKDQwNGg8PGjclHyU3Nzc3Nzc3Nzc3Nzc3Nzc3Nzc3Nzc3Nzc3Nzc3Nzc3Nzc3Nzc3Nzc3Nzc3Nzc3Nzc3N//AABEIALUAwgMBIgACEQEDEQH/xAAbAAEAAgMBAQAAAAAAAAAAAAAABAUCAwYBB//EAEMQAAEDAgMEBwQHBgYCAwAAAAEAAgMEEQUSIRMxQVEGIlRhcZTRFTKB0xQjkaGxwfAzNEJSYuFDU3KSk/EWdGOChP/EABsBAQACAwEBAAAAAAAAAAAAAAADBgECBQQH/8QALBEAAgIBAwQBAwMFAQAAAAAAAAECAxEEEjEFIUFREzJSYRQikSMzNEJxBv/aAAwDAQACEQMRAD8A+weyYu1V3m5PVPZMXaq7zcnqrFEBXeyYu1V3m5PVPZMXaa7zcnqrFeJkFf7Ji7TXebk9U9kxdprvNyeq3zVlND+0mYDyvcqJLjVO09Rj394CgnqKofUzZQk+EbPZMXaa7zcnqnsmLtNd5uT1UGTHJf8AChaO9xutD8Wq3D32t/0t/uvLLqdC4yyRUTLQ4TDxqa7zcnqgwmHtNd5uT1VI+tqXaunlA5g2CkYXVSCuZtJXua7q6uJWkOpwnNRUeTLoklkszhUA1NVXAf8Atyeqxdh9I1t3V1W0Dia1/qvk0D2zRZrAkOc0k8wbLZlbwa0eC6hAfU20dC51m4jUuJ4Cuf6rMYZTnQVdaf8A9knqvlNhxF/FMrRua37EB9Y9kw9prvNyeqeyYe013m5PVfKoJXwG8D3xH/43WUtmLYlHqzEKod21KA+leyYu1V3m5PVPZMXaq7zcnquAh6UYzCBarLwOD2Byn0/TavYRt4KeQccoLSgOw9kxdqrvNyeqeyYu1V3m5PVUdL05pHECppZIe9pDx+RVtS9JMIqSBHWRtJ4SAs/EBAbvZMXaq7zcnqnsmLtVd5uT1U9jmuaCwgtO4jcVkgK72TF2qu83J6p7Ji7VXebk9VYogK72TF2qu83J6orFEBidyjVNdBTftHi/IalUlXik85LWfVsPI3Kg8xcHmTvXHu6ml2gemND/ANi2qMae64gjDR/M43KrpqiackySPcO86LSi5lmptt+qRPGuEeAiIoTcIiLACyY7K9rv5XA/YsU3LKeHkHz6gDoautpZPfjmd+Ov5KctfSGIUfSnaD9nVszfHcfvAW03ub7uCtlE/kqjI501iTPERP1qpTUIo81TFG4RFj3SFpdkjZmNuenBZNqoJQzLM0GUZ2tJ6zh4b0BuRaX1dOHWEjXEvEZDCHWdyIG4rF9bTsqNg4nOHNa4tYS1pduBdaw4b+Y5oCQnio0ddA+IStMmQ5QCYjZ1zYW01ubLOCpjnsInF4yB+bgAd1+/uQE2mrKmk1pqiWIHhE8tCv8AD+mdfT5W1kbalg4jqut4jT7lzKID6bh3SbC8QIayfZTH/Dm6p+B3K6B1Xxi196t8H6RV2FgRxkSwX/ZSa/Zy/BAfUUXJt6cUWUZqSpDragFvqiAjIiKmnUCIiGAiIgCIiAJ8bd6L1YfoHL9O6d5oaasaLmnl1Pj/AHAUGN4fGx43OGnguqxml+m4XU0/F7Or4jUfeAuIwaTa0Lb+8wkH8fzVg6ZZuq2vweO+OHknoNdyIun4yQEOWKoZVGppo45C+MRvZI4svYkh1wD/ADO0ty3KM7Dqt8hMkkMjpHwvfORZwLCCQ0W3XGguLZjv42qIClpMMq2SwyTOgORkbXCMm3VLtQMoAHWOnC28qbPBUSVwkcGOgYQWAyEZXDiW26x5XNt2imogKmlwp0LZ7U9LEHxtaI4HOa172kkPuBdp3czpvK2UmHyU1RE6KUCMC8gBIzGxFsu6243/AKQNyskQBERAEREAREQHZ/Z8VDqMVoKaodBNM5rmNaXkRuLWA7rutYfEqYqyTCm1VbXPqzJ9FqWRsMbX2zgAhwI5G9u9VCCi3+46TbLJ7hG0vkOUcXcL6D7OF1lbQE3vxtuIXLPwGokkqXzME2cSOdtJGZJiZA5l+pmNgDq49XcLglbhgbmv201HFUh887pYHSAZmlxMRN9OoCbDhncRrvkdUMfUa7n6Ogje2R0jWOzGJ2V4/lNgfwcFnZctJgOIPgiZUTGqDP2gaWfWv2MTA85wdzmO7+tffova/CMVlw+Sjhyl95nCodPq/NTPjHC987td26+vDPwx+4bn6OosvFTw4M2GtfLFTRMIqmvjIGrWbOz7cruuSOO9XF725KKaSfZ5Nk8hERaGR8bd6+fmL6D0grqQjKHOLm94Oo+4/cvoGnHcuO6Zwmnxahrm+7INm/xH9j9y6XTLNtu32QXxzHJiiX+zgisB4wiIgCIiAInh9y2x087/AHInv8BdMg1Ip8eD10moiyj+qwUuLo9MbGSVrD8T9yxk0dkF5KVF00XR6nAvLJI/w0UqPB6Jm6G/e4koaO+COPsi7b6BS/5Ef+1ENP1CMF6vEVOO4a6t07aaQ0rGvnt1Gu3X7+fhpfdcKhpaSf2UGysrWvixQSDO+7nt+kg5nEaEWv3abrLol6pI2OKxgw1k5/FKWobW1MlO6Ql8T3SZGuBawhgDb8TdjrW1GZxGpF7bDXvkoYi+ERZS5jWtaQC1pLWkA6gEAH4jepSJKzcsGNp4iIozYIiIBrpbmqPpjSCpwOV4F3wOEjfDcfuJV1I9scbnyODWNF3E8AuT6Q4g+vo37MGOne7ZQg75Xnj4DU/BevR1WTtTguCO2UVHD8kOgl21JG8dYFoue/j94UtkErz9XGSeQFypnRmlFJEG5mvIe7R24jfb9cl1cMjZWZmDxH8qscLYzfY5d85UzcJLg5KLCK6UXEJA77BS4ujtS4XfLE3uvc/r4rpUW+CB3zZSR9HYxrLM49zRZSosFoWWuxzj/UfQKxRZwRu2b8miOkpo9GQRf7dftW8WtZoIA4DcicePw3oa5bCKhqekYp5sXhfSnPh4vC4v6s9o2PcO4jaN8d43G0qux2mpHTRuZUSTRte5rRCeuGOa1xGm4Fw/K4uUM7WWiKDVYtRUtP8ASJ5HMjBeCchJGRjnu3Dg1p0WuXGqeLZh8c7HSCzNpC5vWylwbrzAv/dDG1lki10TvpdHBUmKxmjbIRm3XF16g2sjoiKmllCIiAIiIAiL1AeLGaWOCN0szwyNouXHgsZ5oqeJ007g2NmpJVFIZMUkbNM17KUG8UP83efT9H16TSWame2PHkg1GohRDdI9nkkxdwc5pjogbsj4y955KqxZwqcbpqVrfqqOMzPH9btGj7LlXriGNc9wysa258FzWEl1Q2or3+/Vyl455Bo37lZbKoaPTbYeTw9I367XKU/pj3LSCYwyZgfELoqWfOzbQDrgddnBw5rmrctFNwusdTyBt73O5cXe4PfHlFh6xoFfX8seUdRFI2Vudjrj8O5ZKKWuaRNTi+Yat7lIikbI3Mw3HLkutTfG6O5FOaa5MkRFMYG9aKurio4xJLcl7wxrWNJc9x3AAbz+G/Rb1CxOklqDSVFPlM9JNtmMe4ta+7HMIJANuq82NjrZAsFdPhmGYxT4nHI+eJ81UJZc3UkhkETG9XTcWAcwQ5w42XrejVGKueVlZUiaXa3P1Qd9Y65ObJrYgZcxNgANy0TYPiU7XbR1MWumztifUOl2QyFps+RruJOgA36EWufcKwSspK2lneylaI2NFQ9r85kcIQzTMy7Tdo1zWsPdubgS57cmvEY8MknqIK3EqxkOaYnOxrYmv2LhJZ+TUhhe61zrm5EDyqjwqpq5cTfUVjJTI3NG6n67LRXsLszhuQOdYG177nXCl4hhNVXzVTJxTbJ8csVM4SkbDMwtL8mUXcb2JzbiQLXN85cOq6yOqmrYKZtTMGCONkzy1gAIzE2aT777t4jq7joM5WOS6pGMp6WGGN2ZkcbWNJbckAWG4WRVP/juEnWamEkh9+R56zjxJ6w1+CIa4XsloiKmliCIiAIi9QHi1VlVBRwumqHENAs0WvmPILGtrIqGDayuAG5ot1nnkFTMjmrJxVV181vq4gdIx6/rw9ui0U9VPC48nm1Wpjp47meAS18jaqtblaD9XT30b3nv/XhM/ivrfTduC8FrXbuT42Vz0+nr08FGCKvfqJ3T3TKjpPO5mGGni/a1b2wN8D733XWMMbIo2Rx+4xoaPAKNXP8ApfSNrA68dDDf/wC7/wCyl7lx+pWOc9q8F2/81pXXpnY+ZBe8bovNy53JZGky8wWuJGykNgdL96spGPic6WHXg5vNcpG/Zva7kupw+p+lQguF3N3+HNQqctPPfEp3VtD8U8pftfBJikbK3Ox1x+Hcs1Gka6F+2gF2/wATefet8T2yNzg3vw5Lt03RtjuRwpRcXhmSIimNQiIhkIiIAiIgI2S4uvCFIZcDTetmza4XeLqlbizkJFKdSZtWEDuK1Ogkb/AT3jcsppmMmpRsRr4KCEPlsSfcjbvcVhiWIR0bWsIz1D9I4Rx7zyCrIKd5mdVVbhJUHS43RjkPVdLQaCzVS/B49XrIaeP5EcM885q61xMp9yMe7GOXj3qTv15ITlBde1tVFw6ubiEL5Y4pmxtkcxrpRbPbQkDx0VwpphTBQguxWLbLLpOcmSlhNKyCF80nuRtLneA1Wao+lcuakioGXElZKGG3Bg1cfwUs5bYtmKKnbYoLllVSvnbglXXZiypqc84cBfKTu07lsixKQ1jY5gA5uWOWMaZXl1rg8rajxHLSzdFHsRDZuzLctraW3WWuelp5NrJLAx7i0Zjl1sNQPt1VYlYpzbZ9QqodVUYxeEkRY8TllkeyGnadiXbUvltYCRzNNNfccd4tuWpmLOZIyIwSSEFoe9ocMuZxA4W4by4acyo8NTRvibeipG5GRytIeCxjXu0LjbSxFyNRrcFS6J9HWTse2mia5jGkZ7Zg7U5bf0m+vO/Io4xXgRslLspdzCLF5JZMkdK0yOyFhznK5rs1jctsR1eFxrpddDhdUaaUNubH9H9c1WQUNJTuDoKaJhaLAtZYgC4/M/aVJ3aqGxRksI2s03zVuFvc7Nj2Pja5g6pWl7DA/axC7D7zPzVXgtdlcY5iA06XKssTxCnwuikra0vbBGfrHMY5+Rv81m6ryU2WU2ftKXqdNKubrnySonskbnY64PDkslCY4FrKukLjHIM2XKW5hzsVLikbK3ODfu5KwU2xtjlHPcXHszJEWJcG6ncpTGTJeOcGi5IA71ofM7+A2UKZxcbudcoauWCaauG+96KruiEe9l2wLe0dVSp8MkjuYjnby4qMRY2cHBw4KnXUWVPEkWuM4vg9C2Dh4rBq2BeZmr5KDFKWN2JyTj9qWtb8AP7qK6B1jf8AGyscQ/en+H5Kv/fALOtTX3cZbd3K/wDu8N980D26aGPRWNUt1smyEWOqhdzXfR91j/i+jfx8N+/dYDTnpbndWDd/6H2IWg6OFx3r2fJ7PPszwyv14b1zMrxWdJqiQfs6KMRN5Fx94/ku12MRIGVu9cV0eaJKeqcfedVyZjxO5eXXXf0sLydnoGnU9YnLwWCfC63GNq82TVwUsH0HcpIrabDvo21LaiYyyMDc5DbstfUWGp13m97DVZRUEMUzHxucGsALWXuLgOF77ybOP/e+wMTQvMjVtlmqhBGtFsyNTK2+i1wSZMGv2bg4cF02HTtraYxSWk0s5pFw5p593Bc5ZXnRj3nf6T+Kg1EcR3HD61TGVan54J7oJKcl8LbsJOaPdx1cOR7t3HTW+MIb9Ia+FwyS5rtHMfh4c99rKxJF9VXVER+mxzQlrZHZsw3NcANxtuPfv3clnp9svmS9lXugsZJThotT0ZNtgfeY5vvsdvH6+zksHlWBejxyNMijPOqkScbLVFTzVT8lPG6QniDoPE8EIms8IjIrgdG64gEzwjuufReoZ+Cz0daVqlijlHXYCuaqemVG6eSloS2SoZM2NuZzS142zIpLBrswLS/+IC+8XF1up+mWGVD5I4DJLJcCFjDG4zXcG9UB3V1I9/Lob7gStZQU1ho7KeC1kw8b4zY8nKO+mlj95ug3ngFEd0kEdXLFPh1ZHG2CN+ZzRmzvlMWTKCeIFiLgjUXFikuNRTN2U1FVVLxndJBDGM0cYNjnGfra6WbmzWNgVzrul0WcdjdWSRSV4+mVbj7sGjr8ZdAfs+8+G/Ie6P19i6WuwllbJtWyvY6wGt7KumwKqZfZGN/cDY/eutRtrrUPRyL6bHNvBWDeslIfQ1UX7SB9hyF1ocC02cCDyIspso8+1rk8G8eK4no1+61P/tS/iF2w3rlcLoJKCjZtd9S59QBya5xy/aAD8V49b/bO70D/ACX/AMJaIi5JdTxyxXpXiGUF4vTuWJWWZyFd9Gffd/pP4hUrGOecrQSTyF11HR/DKiOniqDHIDI1wcxwsWnNpoRusoroSlDsjldYknSl+SxKhy/vMN/6vwVqKGd/8Ab3mykwYfGLmdrXm92jksaHT2xtUnHCKtZBzjgoZoTM8FrSJR7rmjUdxtvHd9mqzp6OqleI5ohDId2c9V3ePT/tdQyKOPRjWt8AsZoWTsyyC/KxsR4Fd4jWnXllZBgULSDUPMh4tGgVpFEyJobG1rWjg0WsqGrr8XlqcR9lmjZDhrgx8dQwudUO2bZCA4OGQWe0XIdrfS2/SzpPPJO1sGGVD2OqhExrchdK00+2uCXgN3j3iN44oTRrhHhHUoodFVxVtHBVwMeYp42ysJZYlrhcfiiG5zs0ODw1lTHNJWZIiZWxbQmMPEscjgxo1Jzuj0P82VuhcFYN6O0r4Cx0laxvVMLNuR9GsQ4BhG6xHG+mnu6LHEcBbWVUspZC12z6rsmsr915DbUZRlA/qOmjbWeEUr6Ggip5HBzml3uizWgkkNb3NBDR3BARG4BRNe17jM94DMz3yEl5bJtQT357nhvtu0XlX0fo55HSl9TE55eJTFKW7VrjcsdbhflqNbEXN7lEBgwW43us0RAFiWjkskQYIz6OneczoInHmWBR58Hw+fLtaZhytDBpawG4KwKBYaT5EG4PMexSu6M4S537sR4SuH5p/wCLYT/kO/5XequrJZa/HD0T/qb/AL3/ACUh6LYT/kP/AOV3qs29GsJAt9FJ8ZHequET44eh+pu+9/yVYwDCm7qOIn+rVb4cKoYiDHSQNI3ERhTPivR4rKhFcGjtsfMjFrGM0a1o7gFmvOK9WxGEREAXh3L1EBTVuAUlXPNK6SphbUACqiilLWVAAt1x4aEixIABJAAUQyYLT4piD9pMJKFra2oAzbOP6p0dwP8AQw6DkOJXRncoLqAPxGpqJcr4pqZsBicLggFxN+YOe3wQFFB0owzDIY8PFJiLBStEIaYQ4jKLWuDru3oo83RCeaV8ufBmZ3F2V2FMeW34FxIJ8TvRAdJscX7dQ+Sf81Nji/bqHyT/AJqIgGxxft1D5J/zU2OL9uofJP8AmoiAbHF+3UPkn/NTY4v26h8k/wCaiIBscX7dQ+Sf81Nji/bqHyT/AJqIgGxxft1D5J/zU2OL9uofJP8AmoiAbHF+3UPkn/NTY4v26h8k/wCaiIBscX7dQ+Sf81Nji/bqHyT/AJqIgGxxft1D5J/zU2OL9uofJP8AmoiAbHF+3UPkn/NTY4v26h8k/wCaiIBscX7dQ+Sf81Nji/bqHyT/AJqIgGxxft1D5J/zU2OL9uofJP8AmoiAbHF+3UPkn/NTY4v26h8k/wCaiIBscX7dQ+Sf81ERAf/Z'): can't open/read file: check file path/integrity\n"
     ]
    },
    {
     "ename": "error",
     "evalue": "OpenCV(4.10.0) /Users/xperience/GHA-Actions-OpenCV/_work/opencv-python/opencv-python/opencv/modules/imgproc/src/color.cpp:196: error: (-215:Assertion failed) !_src.empty() in function 'cvtColor'\n",
     "output_type": "error",
     "traceback": [
      "\u001b[0;31m---------------------------------------------------------------------------\u001b[0m",
      "\u001b[0;31merror\u001b[0m                                     Traceback (most recent call last)",
      "Cell \u001b[0;32mIn[9], line 1\u001b[0m\n\u001b[0;32m----> 1\u001b[0m \u001b[43mget_image_with_border\u001b[49m\u001b[43m(\u001b[49m\u001b[43mdata_url\u001b[49m\u001b[43m)\u001b[49m\n",
      "File \u001b[0;32m~/Library/CloudStorage/OneDrive-sjtu.edu.cn/Study/ChartLLM/ChartLLMCode/agent_tools/img_outer_border.py:30\u001b[0m, in \u001b[0;36mget_image_with_border\u001b[0;34m(image_path, tick_pixel, output_dir, output_suffix)\u001b[0m\n\u001b[1;32m     27\u001b[0m img \u001b[38;5;241m=\u001b[39m cv2\u001b[38;5;241m.\u001b[39mimread(image_path)\n\u001b[1;32m     29\u001b[0m \u001b[38;5;66;03m# Convert the image from BGR (OpenCV format) to RGB (Matplotlib format)\u001b[39;00m\n\u001b[0;32m---> 30\u001b[0m img_rgb \u001b[38;5;241m=\u001b[39m \u001b[43mcv2\u001b[49m\u001b[38;5;241;43m.\u001b[39;49m\u001b[43mcvtColor\u001b[49m\u001b[43m(\u001b[49m\u001b[43mimg\u001b[49m\u001b[43m,\u001b[49m\u001b[43m \u001b[49m\u001b[43mcv2\u001b[49m\u001b[38;5;241;43m.\u001b[39;49m\u001b[43mCOLOR_BGR2RGB\u001b[49m\u001b[43m)\u001b[49m\n\u001b[1;32m     32\u001b[0m \u001b[38;5;66;03m# Get the height and width of the image\u001b[39;00m\n\u001b[1;32m     33\u001b[0m height, width, _ \u001b[38;5;241m=\u001b[39m np\u001b[38;5;241m.\u001b[39marray(img_rgb)\u001b[38;5;241m.\u001b[39mshape\n",
      "\u001b[0;31merror\u001b[0m: OpenCV(4.10.0) /Users/xperience/GHA-Actions-OpenCV/_work/opencv-python/opencv-python/opencv/modules/imgproc/src/color.cpp:196: error: (-215:Assertion failed) !_src.empty() in function 'cvtColor'\n"
     ]
    }
   ],
   "source": [
    "get_image_with_border(data_url)"
   ]
  },
  {
   "cell_type": "code",
   "execution_count": null,
   "metadata": {},
   "outputs": [],
   "source": [
    "\n",
    "prompt = f\"\"\"你是一名专业的数据分析师，请从上传的图像中提取柱状图中的数据信息，并将其整理为 Markdown 表格。\n",
    "\n",
    "#### 要求：\n",
    "1. **数据提取**：\n",
    "   - 从柱状图中提取每个柱子的具体数值。\n",
    "   - 按照柱状图的分类、颜色、时间轴（如年份、季度、月份等）或其他标签整理数据。\n",
    "2. **表格结构**：\n",
    "   - 每行代表一个分类或分组（如时间段、类别）。\n",
    "   - 每列表示柱状图中的一个关键属性（如颜色、类别、数值等）。\n",
    "3. **数据清晰**：\n",
    "   - 如果某些数据模糊，标注为 \"N/A\"。\n",
    "   - 确保表头包含清晰的字段名称（如分类、单位等）。\n",
    "\n",
    "#### 输出格式：\n",
    "以 Markdown 表格形式呈现数据，表格结构如下：\n",
    "\n",
    "| 分类/时间 | 数据1（单位） | 数据2（单位） | 数据3（单位） | 数据4（单位） | 备注         |\n",
    "|-----------|---------------|---------------|---------------|---------------|-------------|\n",
    "| 类别A     | 数值1         | 数值2         | 数值3         | 数值4         | 备注信息     |\n",
    "| 类别B     | 数值5         | 数值6         | 数值7         | 数值8         | 备注信息     |\"\"\""
   ]
  },
  {
   "cell_type": "code",
   "execution_count": null,
   "metadata": {},
   "outputs": [],
   "source": []
  }
 ],
 "metadata": {
  "kernelspec": {
   "display_name": "dp",
   "language": "python",
   "name": "python3"
  },
  "language_info": {
   "codemirror_mode": {
    "name": "ipython",
    "version": 3
   },
   "file_extension": ".py",
   "mimetype": "text/x-python",
   "name": "python",
   "nbconvert_exporter": "python",
   "pygments_lexer": "ipython3",
   "version": "3.11.4"
  }
 },
 "nbformat": 4,
 "nbformat_minor": 2
}
